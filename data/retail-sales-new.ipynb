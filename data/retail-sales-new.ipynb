{
 "cells": [
  {
   "cell_type": "code",
   "execution_count": null,
   "id": "25371108",
   "metadata": {},
   "outputs": [],
   "source": [
    "df = spark.read.csv(\"/FileStore/tables/superstore-4.csv\",header=True,inferSchema=True)\n",
    "display(df)"
   ]
  },
  {
   "cell_type": "code",
   "execution_count": null,
   "id": "54c61fa0",
   "metadata": {},
   "outputs": [],
   "source": [
    "df.createOrReplaceTempView(\"sample\")"
   ]
  },
  {
   "cell_type": "code",
   "execution_count": null,
   "id": "670b512f",
   "metadata": {},
   "outputs": [],
   "source": [
    "%sql select * from sample"
   ]
  },
  {
   "cell_type": "code",
   "execution_count": null,
   "id": "ccc4ebaf",
   "metadata": {},
   "outputs": [],
   "source": [
    "%sql select count(distinct customer_id) from sample"
   ]
  },
  {
   "cell_type": "code",
   "execution_count": null,
   "id": "66518d46",
   "metadata": {},
   "outputs": [],
   "source": [
    "%sql select count(distinct customer_id) from sample where order_date between '2024-08-01' and '2024-08-31'"
   ]
  },
  {
   "cell_type": "code",
   "execution_count": null,
   "id": "f3b2e408",
   "metadata": {},
   "outputs": [],
   "source": [
    "dbutils.widgets.dropdown(\"time_period\",'Weekly', ['Weekly', 'Monthly'])"
   ]
  },
  {
   "cell_type": "code",
   "execution_count": null,
   "id": "d0b0d20f",
   "metadata": {},
   "outputs": [],
   "source": [
    "from datetime import date,timedelta,datetime\n",
    "from pyspark.sql.functions import * \n",
    "\n",
    "time_period= dbutils.widgets.get(\"time_period\")\n",
    "print(time_period)\n",
    "today = date.today()\n",
    "\n",
    "if time_period=='Weekly':\n",
    "    start_date=today-timedelta(days=today.weekday(),weeks=1)-timedelta(days=1)\n",
    "    end_date=start_date+timedelta(days=6)\n",
    "\n",
    "else:\n",
    "    first=today.replace(day=1)\n",
    "    end_date=first-timedelta(days=1)\n",
    "    start_date=first-timedelta(days=end_date.day)\n",
    "\n",
    "print(start_date,end_date)\n"
   ]
  },
  {
   "cell_type": "code",
   "execution_count": null,
   "id": "90387957",
   "metadata": {},
   "outputs": [],
   "source": [
    "spark.sql(f\"\"\"select count(distinct customer_id) from sample where order_date between '{start_date}' and '{end_date}' \"\"\")"
   ]
  },
  {
   "cell_type": "code",
   "execution_count": null,
   "id": "4d74d645",
   "metadata": {},
   "outputs": [],
   "source": []
  },
  {
   "cell_type": "code",
   "execution_count": null,
   "id": "7eff507f",
   "metadata": {},
   "outputs": [],
   "source": []
  },
  {
   "cell_type": "code",
   "execution_count": null,
   "id": "9c023fc1",
   "metadata": {},
   "outputs": [],
   "source": []
  },
  {
   "cell_type": "code",
   "execution_count": null,
   "id": "6234561c",
   "metadata": {},
   "outputs": [],
   "source": []
  },
  {
   "cell_type": "code",
   "execution_count": null,
   "id": "63642251",
   "metadata": {},
   "outputs": [],
   "source": []
  },
  {
   "cell_type": "code",
   "execution_count": null,
   "id": "49066fc7",
   "metadata": {},
   "outputs": [],
   "source": []
  },
  {
   "cell_type": "code",
   "execution_count": null,
   "id": "fbd34e2d",
   "metadata": {},
   "outputs": [],
   "source": []
  },
  {
   "cell_type": "code",
   "execution_count": null,
   "id": "9e81b426",
   "metadata": {},
   "outputs": [],
   "source": []
  },
  {
   "cell_type": "code",
   "execution_count": null,
   "id": "93977e41",
   "metadata": {},
   "outputs": [],
   "source": []
  }
 ],
 "metadata": {
  "kernelspec": {
   "display_name": "Python 3 (ipykernel)",
   "language": "python",
   "name": "python3"
  },
  "language_info": {
   "codemirror_mode": {
    "name": "ipython",
    "version": 3
   },
   "file_extension": ".py",
   "mimetype": "text/x-python",
   "name": "python",
   "nbconvert_exporter": "python",
   "pygments_lexer": "ipython3",
   "version": "3.10.9"
  }
 },
 "nbformat": 4,
 "nbformat_minor": 5
}
