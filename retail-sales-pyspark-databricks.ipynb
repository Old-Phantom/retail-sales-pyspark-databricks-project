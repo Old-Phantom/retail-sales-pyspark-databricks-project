{
 "cells": [
  {
   "cell_type": "code",
   "execution_count": null,
   "id": "315ff5ae",
   "metadata": {},
   "outputs": [],
   "source": [
    "df = spark.read.csv(\"/FileStore/tables/superstore-4.csv\",header=True,inferSchema=True)\n",
    "display(df)"
   ]
  },
  {
   "cell_type": "code",
   "execution_count": null,
   "id": "750802ba",
   "metadata": {},
   "outputs": [],
   "source": [
    "df.createOrReplaceTempView(\"sample\")"
   ]
  },
  {
   "cell_type": "code",
   "execution_count": null,
   "id": "0148aa2e",
   "metadata": {},
   "outputs": [],
   "source": [
    "%sql select * from sample"
   ]
  },
  {
   "cell_type": "code",
   "execution_count": null,
   "id": "288b05dc",
   "metadata": {},
   "outputs": [],
   "source": [
    "%sql select count(distinct customer_id) from sample"
   ]
  },
  {
   "cell_type": "code",
   "execution_count": null,
   "id": "84bec9ba",
   "metadata": {},
   "outputs": [],
   "source": [
    "%sql select count(distinct customer_id) from sample where order_date between '2024-08-01' and '2024-08-31'"
   ]
  },
  {
   "cell_type": "code",
   "execution_count": null,
   "id": "7b210cf4",
   "metadata": {},
   "outputs": [],
   "source": [
    "dbutils.widgets.dropdown(\"time_period\",'Weekly', ['Weekly', 'Monthly'])"
   ]
  },
  {
   "cell_type": "code",
   "execution_count": null,
   "id": "5c2777f1",
   "metadata": {},
   "outputs": [],
   "source": [
    "from datetime import date,timedelta,datetime\n",
    "from pyspark.sql.functions import * \n",
    "\n",
    "time_period= dbutils.widgets.get(\"time_period\")\n",
    "print(time_period)\n",
    "today = date.today()\n",
    "\n",
    "if time_period=='Weekly':\n",
    "    start_date=today-timedelta(days=today.weekday(),weeks=1)-timedelta(days=1)\n",
    "    end_date=start_date+timedelta(days=6)\n",
    "\n",
    "else:\n",
    "    first=today.replace(day=1)\n",
    "    end_date=first-timedelta(days=1)\n",
    "    start_date=first-timedelta(days=end_date.day)\n",
    "\n",
    "print(start_date,end_date)\n"
   ]
  },
  {
   "cell_type": "code",
   "execution_count": null,
   "id": "f624e676",
   "metadata": {},
   "outputs": [],
   "source": [
    "display(spark.sql(f\"\"\"select count(distinct customer_id) from sample where order_date between '{start_date}' and '{end_date}' \"\"\"))"
   ]
  },
  {
   "cell_type": "code",
   "execution_count": null,
   "id": "66eedc7f",
   "metadata": {},
   "outputs": [],
   "source": [
    "display(spark.sql(f\"\"\"select count(distinct order_id) from sample where order_date between '{start_date}' and '{end_date}' \"\"\"))"
   ]
  },
  {
   "cell_type": "code",
   "execution_count": null,
   "id": "db998fc7",
   "metadata": {},
   "outputs": [],
   "source": [
    "%sql select sum(sales),sum(profit) from sample"
   ]
  },
  {
   "cell_type": "code",
   "execution_count": null,
   "id": "77069890",
   "metadata": {},
   "outputs": [],
   "source": [
    "%sql select sum(sales),country from sample\n",
    "group by 2"
   ]
  },
  {
   "cell_type": "code",
   "execution_count": null,
   "id": "846174dc",
   "metadata": {},
   "outputs": [],
   "source": [
    "%sql select sum(sales),country,region from sample\n",
    "group by 2,3\n",
    "order by 1 desc"
   ]
  },
  {
   "cell_type": "code",
   "execution_count": null,
   "id": "923a1841",
   "metadata": {},
   "outputs": [],
   "source": [
    "%sql select sum(sales),category from sample\n",
    "group by 2\n",
    "order by 1 desc"
   ]
  },
  {
   "cell_type": "code",
   "execution_count": null,
   "id": "a015b8bc",
   "metadata": {},
   "outputs": [],
   "source": [
    "%sql select sum(sales),sub_category from sample\n",
    "group by 2\n",
    "order by 1 desc"
   ]
  },
  {
   "cell_type": "code",
   "execution_count": null,
   "id": "cd20e19f",
   "metadata": {},
   "outputs": [],
   "source": [
    "%sql select sum(sales),sub_category from sample\n",
    "group by 2\n",
    "order by 1 desc limit 10"
   ]
  },
  {
   "cell_type": "code",
   "execution_count": null,
   "id": "e70d792f",
   "metadata": {},
   "outputs": [],
   "source": [
    "%sql select sum(quantity),product_name from sample\n",
    "group by 2\n",
    "order by 1 desc"
   ]
  },
  {
   "cell_type": "code",
   "execution_count": null,
   "id": "8ebd7ac0",
   "metadata": {},
   "outputs": [],
   "source": [
    "%sql select sum(sales),customer_name,city from sample\n",
    "group by 2,3\n",
    "order by 1 desc"
   ]
  },
  {
   "cell_type": "code",
   "execution_count": null,
   "id": "27dbbd38",
   "metadata": {},
   "outputs": [],
   "source": []
  },
  {
   "cell_type": "code",
   "execution_count": null,
   "id": "94dc628a",
   "metadata": {},
   "outputs": [],
   "source": []
  },
  {
   "cell_type": "code",
   "execution_count": null,
   "id": "6c04ed84",
   "metadata": {},
   "outputs": [],
   "source": []
  },
  {
   "cell_type": "code",
   "execution_count": null,
   "id": "29db104a",
   "metadata": {},
   "outputs": [],
   "source": []
  }
 ],
 "metadata": {
  "kernelspec": {
   "display_name": "Python 3 (ipykernel)",
   "language": "python",
   "name": "python3"
  },
  "language_info": {
   "codemirror_mode": {
    "name": "ipython",
    "version": 3
   },
   "file_extension": ".py",
   "mimetype": "text/x-python",
   "name": "python",
   "nbconvert_exporter": "python",
   "pygments_lexer": "ipython3",
   "version": "3.10.9"
  }
 },
 "nbformat": 4,
 "nbformat_minor": 5
}
